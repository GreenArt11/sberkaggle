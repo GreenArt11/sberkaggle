{
 "cells": [
  {
   "cell_type": "markdown",
   "metadata": {},
   "source": [
    "# 1 Импорт файлов задания"
   ]
  },
  {
   "cell_type": "markdown",
   "metadata": {},
   "source": [
    "## Загружаем данные"
   ]
  },
  {
   "cell_type": "code",
   "execution_count": 2,
   "metadata": {},
   "outputs": [],
   "source": [
    "# скачиваем исходные данные с kaggle\n",
    "\n",
    "from kaggle.api.kaggle_api_extended import KaggleApi\n",
    "\n",
    "api = KaggleApi()\n",
    "api.authenticate()\n",
    "\n",
    "api.competition_download_file('python-and-analyze-data-final-project', 'gender_test_kaggle_sample_submission.csv', path='kaggle_datasets', quiet=True)\n",
    "api.competition_download_file('python-and-analyze-data-final-project', 'gender_train.csv', path='kaggle_datasets', quiet=True)\n",
    "api.competition_download_file('python-and-analyze-data-final-project', 'tr_mcc_codes.csv', path='kaggle_datasets', quiet=True)\n",
    "api.competition_download_file('python-and-analyze-data-final-project', 'tr_types.csv', path='kaggle_datasets', quiet=True)\n",
    "api.competition_download_file('python-and-analyze-data-final-project', 'transactions.csv', path='kaggle_datasets', quiet=True)"
   ]
  },
  {
   "cell_type": "code",
   "execution_count": 3,
   "metadata": {},
   "outputs": [],
   "source": [
    "# открываем файлы\n",
    "\n",
    "import pandas as pd\n",
    "pd.set_option('max_colwidth', 400)\n",
    "\n",
    "transactions = pd.read_csv('kaggle_datasets/transactions.csv.zip', delimiter=',')\n",
    "gender_train = pd.read_csv('kaggle_datasets/gender_train.csv', delimiter=',')\n",
    "tr_mcc_codes = pd.read_csv('kaggle_datasets/tr_mcc_codes.csv', delimiter=';')\n",
    "tr_types = pd.read_csv('kaggle_datasets/tr_types.csv', delimiter=';')"
   ]
  },
  {
   "cell_type": "markdown",
   "metadata": {},
   "source": [
    "## Анализ исходных файлов"
   ]
  },
  {
   "cell_type": "markdown",
   "metadata": {},
   "source": [
    "У нас есть 4 файла в исходных данных. Проведем их поверхностный анализ."
   ]
  },
  {
   "cell_type": "code",
   "execution_count": 4,
   "metadata": {},
   "outputs": [
    {
     "name": "stdout",
     "output_type": "stream",
     "text": [
      "<class 'pandas.core.frame.DataFrame'>\n",
      "RangeIndex: 6849346 entries, 0 to 6849345\n",
      "Data columns (total 6 columns):\n",
      " #   Column       Dtype  \n",
      "---  ------       -----  \n",
      " 0   customer_id  int64  \n",
      " 1   tr_datetime  object \n",
      " 2   mcc_code     int64  \n",
      " 3   tr_type      int64  \n",
      " 4   amount       float64\n",
      " 5   term_id      object \n",
      "dtypes: float64(1), int64(3), object(2)\n",
      "memory usage: 313.5+ MB\n"
     ]
    }
   ],
   "source": [
    "transactions.info()"
   ]
  },
  {
   "cell_type": "code",
   "execution_count": 10,
   "metadata": {},
   "outputs": [
    {
     "data": {
      "text/plain": [
       "15000"
      ]
     },
     "execution_count": 10,
     "metadata": {},
     "output_type": "execute_result"
    }
   ],
   "source": [
    "# посчитаем количество  уникальных клиентов\n",
    "\n",
    "transactions.customer_id.nunique()"
   ]
  },
  {
   "cell_type": "code",
   "execution_count": 12,
   "metadata": {},
   "outputs": [
    {
     "name": "stdout",
     "output_type": "stream",
     "text": [
      "<class 'pandas.core.frame.DataFrame'>\n",
      "RangeIndex: 8400 entries, 0 to 8399\n",
      "Data columns (total 2 columns):\n",
      " #   Column       Non-Null Count  Dtype\n",
      "---  ------       --------------  -----\n",
      " 0   customer_id  8400 non-null   int64\n",
      " 1   gender       8400 non-null   int64\n",
      "dtypes: int64(2)\n",
      "memory usage: 131.4 KB\n"
     ]
    }
   ],
   "source": [
    "gender_train.info()"
   ]
  },
  {
   "cell_type": "code",
   "execution_count": 13,
   "metadata": {},
   "outputs": [
    {
     "name": "stdout",
     "output_type": "stream",
     "text": [
      "<class 'pandas.core.frame.DataFrame'>\n",
      "RangeIndex: 184 entries, 0 to 183\n",
      "Data columns (total 2 columns):\n",
      " #   Column           Non-Null Count  Dtype \n",
      "---  ------           --------------  ----- \n",
      " 0   mcc_code         184 non-null    int64 \n",
      " 1   mcc_description  184 non-null    object\n",
      "dtypes: int64(1), object(1)\n",
      "memory usage: 3.0+ KB\n"
     ]
    }
   ],
   "source": [
    "tr_mcc_codes.info()"
   ]
  },
  {
   "cell_type": "code",
   "execution_count": 14,
   "metadata": {},
   "outputs": [
    {
     "name": "stdout",
     "output_type": "stream",
     "text": [
      "<class 'pandas.core.frame.DataFrame'>\n",
      "RangeIndex: 155 entries, 0 to 154\n",
      "Data columns (total 2 columns):\n",
      " #   Column          Non-Null Count  Dtype \n",
      "---  ------          --------------  ----- \n",
      " 0   tr_type         155 non-null    int64 \n",
      " 1   tr_description  155 non-null    object\n",
      "dtypes: int64(1), object(1)\n",
      "memory usage: 2.6+ KB\n"
     ]
    }
   ],
   "source": [
    "tr_types.info()"
   ]
  },
  {
   "cell_type": "markdown",
   "metadata": {},
   "source": [
    "## Выводы\n",
    "\n",
    "Итого у нас есть:\n",
    "- датасет из 6,8 миллионов транзакций по 15000 клиентам\n",
    "- обучающая разметка гендера по 8400 клиентам\n",
    "- справочник отраслей MCC из 184 значений\n",
    "- справочник типов операций из 155 значений"
   ]
  },
  {
   "cell_type": "markdown",
   "metadata": {},
   "source": [
    "Следующим шагом соберем из этого датасет транзакций"
   ]
  }
 ],
 "metadata": {
  "kernelspec": {
   "display_name": ".venv",
   "language": "python",
   "name": "python3"
  },
  "language_info": {
   "codemirror_mode": {
    "name": "ipython",
    "version": 3
   },
   "file_extension": ".py",
   "mimetype": "text/x-python",
   "name": "python",
   "nbconvert_exporter": "python",
   "pygments_lexer": "ipython3",
   "version": "3.11.2"
  },
  "orig_nbformat": 4
 },
 "nbformat": 4,
 "nbformat_minor": 2
}
