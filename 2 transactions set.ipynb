{
 "cells": [
  {
   "cell_type": "markdown",
   "metadata": {},
   "source": [
    "# 2 Собираем датасет транзакций"
   ]
  },
  {
   "cell_type": "markdown",
   "metadata": {},
   "source": [
    "## Выделяем фичи справочников"
   ]
  },
  {
   "cell_type": "markdown",
   "metadata": {},
   "source": [
    "Как мы увидели ранее, у на есть два справочника.\n",
    "\n",
    "Каждый из справочников состоит их 2х полей: ключ и описание.\n",
    "\n",
    "Попробуем выделить из описания дополнительные фичи."
   ]
  },
  {
   "cell_type": "markdown",
   "metadata": {},
   "source": [
    "### Справочник MCC"
   ]
  },
  {
   "cell_type": "code",
   "execution_count": 1,
   "metadata": {},
   "outputs": [],
   "source": [
    "import pandas as pd\n",
    "pd.set_option('max_colwidth', 400)"
   ]
  },
  {
   "cell_type": "code",
   "execution_count": 17,
   "metadata": {},
   "outputs": [
    {
     "data": {
      "text/html": [
       "<div>\n",
       "<style scoped>\n",
       "    .dataframe tbody tr th:only-of-type {\n",
       "        vertical-align: middle;\n",
       "    }\n",
       "\n",
       "    .dataframe tbody tr th {\n",
       "        vertical-align: top;\n",
       "    }\n",
       "\n",
       "    .dataframe thead th {\n",
       "        text-align: right;\n",
       "    }\n",
       "</style>\n",
       "<table border=\"1\" class=\"dataframe\">\n",
       "  <thead>\n",
       "    <tr style=\"text-align: right;\">\n",
       "      <th></th>\n",
       "      <th>mcc_code</th>\n",
       "      <th>mcc_description</th>\n",
       "    </tr>\n",
       "  </thead>\n",
       "  <tbody>\n",
       "    <tr>\n",
       "      <th>182</th>\n",
       "      <td>9399</td>\n",
       "      <td>Правительственные услуги, нигде ранее не классифицируемые</td>\n",
       "    </tr>\n",
       "    <tr>\n",
       "      <th>179</th>\n",
       "      <td>9211</td>\n",
       "      <td>Судовые выплаты, включая алименты и детскую поддержку</td>\n",
       "    </tr>\n",
       "    <tr>\n",
       "      <th>131</th>\n",
       "      <td>7011</td>\n",
       "      <td>Отели, мотели, базы отдыха, сервисы бронирования</td>\n",
       "    </tr>\n",
       "    <tr>\n",
       "      <th>24</th>\n",
       "      <td>4900</td>\n",
       "      <td>Коммунальные услуги — электричество, газ, санитария, вода</td>\n",
       "    </tr>\n",
       "    <tr>\n",
       "      <th>65</th>\n",
       "      <td>5541</td>\n",
       "      <td>Станции техобслуживания</td>\n",
       "    </tr>\n",
       "    <tr>\n",
       "      <th>104</th>\n",
       "      <td>5947</td>\n",
       "      <td>Магазины открыток, подарков, новинок и сувениров</td>\n",
       "    </tr>\n",
       "    <tr>\n",
       "      <th>32</th>\n",
       "      <td>5074</td>\n",
       "      <td>Оборудование для водопровода и отопительной системы</td>\n",
       "    </tr>\n",
       "  </tbody>\n",
       "</table>\n",
       "</div>"
      ],
      "text/plain": [
       "     mcc_code                                            mcc_description\n",
       "182      9399  Правительственные услуги, нигде ранее не классифицируемые\n",
       "179      9211      Судовые выплаты, включая алименты и детскую поддержку\n",
       "131      7011           Отели, мотели, базы отдыха, сервисы бронирования\n",
       "24       4900  Коммунальные услуги — электричество, газ, санитария, вода\n",
       "65       5541                                    Станции техобслуживания\n",
       "104      5947           Магазины открыток, подарков, новинок и сувениров\n",
       "32       5074        Оборудование для водопровода и отопительной системы"
      ]
     },
     "execution_count": 17,
     "metadata": {},
     "output_type": "execute_result"
    }
   ],
   "source": [
    "tr_mcc_codes = pd.read_csv('kaggle_datasets/tr_mcc_codes.csv', delimiter=';')\n",
    "tr_mcc_codes.sample(7, random_state=7)"
   ]
  },
  {
   "cell_type": "markdown",
   "metadata": {},
   "source": [
    "Видим, что описание достаточно подробное и сложносоставное. \n",
    "\n",
    "Оно может состоять из нескольких частей, разделенных тире (как коммунальные услуги) или запятыми (как судовые выплаты).\n",
    "\n",
    "Сформируем фичи, выделяющие текст до этих символов как отдельную фичу."
   ]
  },
  {
   "cell_type": "code",
   "execution_count": 25,
   "metadata": {},
   "outputs": [
    {
     "data": {
      "text/html": [
       "<div>\n",
       "<style scoped>\n",
       "    .dataframe tbody tr th:only-of-type {\n",
       "        vertical-align: middle;\n",
       "    }\n",
       "\n",
       "    .dataframe tbody tr th {\n",
       "        vertical-align: top;\n",
       "    }\n",
       "\n",
       "    .dataframe thead th {\n",
       "        text-align: right;\n",
       "    }\n",
       "</style>\n",
       "<table border=\"1\" class=\"dataframe\">\n",
       "  <thead>\n",
       "    <tr style=\"text-align: right;\">\n",
       "      <th></th>\n",
       "      <th>mcc_code</th>\n",
       "      <th>mcc_description</th>\n",
       "      <th>mcc_full_description</th>\n",
       "      <th>mcc_group</th>\n",
       "    </tr>\n",
       "  </thead>\n",
       "  <tbody>\n",
       "    <tr>\n",
       "      <th>0</th>\n",
       "      <td>742</td>\n",
       "      <td>Ветеринарные услуги (742) (742)</td>\n",
       "      <td>Ветеринарные услуги (742)</td>\n",
       "      <td>74</td>\n",
       "    </tr>\n",
       "    <tr>\n",
       "      <th>1</th>\n",
       "      <td>1711</td>\n",
       "      <td>Генеральные подрядчики по вентиляции (1711) (1711)</td>\n",
       "      <td>Генеральные подрядчики по вентиляции (1711)</td>\n",
       "      <td>17</td>\n",
       "    </tr>\n",
       "    <tr>\n",
       "      <th>2</th>\n",
       "      <td>1731</td>\n",
       "      <td>Подрядчики по электричеству (1731) (1731)</td>\n",
       "      <td>Подрядчики по электричеству (1731)</td>\n",
       "      <td>17</td>\n",
       "    </tr>\n",
       "    <tr>\n",
       "      <th>3</th>\n",
       "      <td>1799</td>\n",
       "      <td>Подрядчики (1799) (1799)</td>\n",
       "      <td>Подрядчики (1799)</td>\n",
       "      <td>17</td>\n",
       "    </tr>\n",
       "    <tr>\n",
       "      <th>4</th>\n",
       "      <td>2741</td>\n",
       "      <td>Разнообразные издательства (2741) (2741)</td>\n",
       "      <td>Разнообразные издательства (2741)</td>\n",
       "      <td>27</td>\n",
       "    </tr>\n",
       "  </tbody>\n",
       "</table>\n",
       "</div>"
      ],
      "text/plain": [
       "   mcc_code                                     mcc_description  \\\n",
       "0       742                     Ветеринарные услуги (742) (742)   \n",
       "1      1711  Генеральные подрядчики по вентиляции (1711) (1711)   \n",
       "2      1731           Подрядчики по электричеству (1731) (1731)   \n",
       "3      1799                            Подрядчики (1799) (1799)   \n",
       "4      2741            Разнообразные издательства (2741) (2741)   \n",
       "\n",
       "                          mcc_full_description mcc_group  \n",
       "0                    Ветеринарные услуги (742)        74  \n",
       "1  Генеральные подрядчики по вентиляции (1711)        17  \n",
       "2           Подрядчики по электричеству (1731)        17  \n",
       "3                            Подрядчики (1799)        17  \n",
       "4            Разнообразные издательства (2741)        27  "
      ]
     },
     "execution_count": 25,
     "metadata": {},
     "output_type": "execute_result"
    }
   ],
   "source": [
    "tr_mcc_codes['mcc_full_description'] = tr_mcc_codes['mcc_description']\n",
    "\n",
    "\n",
    "# формируем сокращенное описание MCC\n",
    "def extract_text_before_delimiter(value):\n",
    "    delimiters = [',', '—', '/']\n",
    "    for delimiter in delimiters:\n",
    "        if delimiter in value:\n",
    "            value = value.split(delimiter)[0].strip()\n",
    "    return value\n",
    "\n",
    "for index, row in tr_mcc_codes.iterrows():\n",
    "    tr_mcc_codes.at[index, 'mcc_description'] = extract_text_before_delimiter(row['mcc_description'])\n",
    "\n",
    "# добавляем к mcc_description значение кода MCC, чтобы исключить дубликаты в этом поле\n",
    "tr_mcc_codes['mcc_description'] = tr_mcc_codes['mcc_description'] + ' (' + tr_mcc_codes['mcc_code'].astype('str') + ')' \n",
    "\n",
    "\n",
    "# выделяем группу MCC\n",
    "tr_mcc_codes['mcc_group'] = tr_mcc_codes['mcc_code'].astype('str').apply(lambda x: x[:2])\n",
    "\n",
    "\n",
    "import os\n",
    "os.makedirs('./datasets', exist_ok=True)\n",
    "\n",
    "tr_mcc_codes.to_csv('datasets/tr_mcc_codes_featured.csv', index=False)\n",
    "tr_mcc_codes.head(5)"
   ]
  },
  {
   "cell_type": "code",
   "execution_count": null,
   "metadata": {},
   "outputs": [],
   "source": []
  }
 ],
 "metadata": {
  "kernelspec": {
   "display_name": ".venv",
   "language": "python",
   "name": "python3"
  },
  "language_info": {
   "codemirror_mode": {
    "name": "ipython",
    "version": 3
   },
   "file_extension": ".py",
   "mimetype": "text/x-python",
   "name": "python",
   "nbconvert_exporter": "python",
   "pygments_lexer": "ipython3",
   "version": "3.11.2"
  },
  "orig_nbformat": 4
 },
 "nbformat": 4,
 "nbformat_minor": 2
}
